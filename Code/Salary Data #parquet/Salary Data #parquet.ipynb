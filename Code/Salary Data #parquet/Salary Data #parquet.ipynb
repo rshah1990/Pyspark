{
 "cells": [
  {
   "cell_type": "code",
   "execution_count": 1,
   "metadata": {},
   "outputs": [],
   "source": [
    "from pyspark.sql import SparkSession"
   ]
  },
  {
   "cell_type": "code",
   "execution_count": 20,
   "metadata": {},
   "outputs": [],
   "source": [
    "from pyspark.sql import functions as F"
   ]
  },
  {
   "cell_type": "code",
   "execution_count": 2,
   "metadata": {},
   "outputs": [],
   "source": [
    "ss = SparkSession.builder.appName(\"salary_json\").getOrCreate()"
   ]
  },
  {
   "cell_type": "code",
   "execution_count": 3,
   "metadata": {},
   "outputs": [],
   "source": [
    "df = ss.read.parquet('userdata1.parquet')"
   ]
  },
  {
   "cell_type": "code",
   "execution_count": 5,
   "metadata": {},
   "outputs": [
    {
     "data": {
      "text/plain": [
       "[Row(registration_dttm=datetime.datetime(2016, 2, 3, 13, 25, 29), id=1, first_name='Amanda', last_name='Jordan', email='ajordan0@com.com', gender='Female', ip_address='1.197.201.2', cc='6759521864920116', country='Indonesia', birthdate='3/8/1971', salary=49756.53, title='Internal Auditor', comments='1E+02')]"
      ]
     },
     "execution_count": 5,
     "metadata": {},
     "output_type": "execute_result"
    }
   ],
   "source": [
    "df.head(1)"
   ]
  },
  {
   "cell_type": "code",
   "execution_count": 6,
   "metadata": {},
   "outputs": [
    {
     "data": {
      "text/plain": [
       "['registration_dttm',\n",
       " 'id',\n",
       " 'first_name',\n",
       " 'last_name',\n",
       " 'email',\n",
       " 'gender',\n",
       " 'ip_address',\n",
       " 'cc',\n",
       " 'country',\n",
       " 'birthdate',\n",
       " 'salary',\n",
       " 'title',\n",
       " 'comments']"
      ]
     },
     "execution_count": 6,
     "metadata": {},
     "output_type": "execute_result"
    }
   ],
   "source": [
    "df.columns"
   ]
  },
  {
   "cell_type": "code",
   "execution_count": 13,
   "metadata": {},
   "outputs": [
    {
     "data": {
      "text/plain": [
       "1000"
      ]
     },
     "execution_count": 13,
     "metadata": {},
     "output_type": "execute_result"
    }
   ],
   "source": [
    "df.count()"
   ]
  },
  {
   "cell_type": "code",
   "execution_count": 17,
   "metadata": {},
   "outputs": [
    {
     "name": "stdout",
     "output_type": "stream",
     "text": [
      "+-------+------------------+\n",
      "|summary|            salary|\n",
      "+-------+------------------+\n",
      "|  count|               932|\n",
      "|   mean|149005.35665236053|\n",
      "| stddev| 79785.17673591433|\n",
      "|    min|          12380.49|\n",
      "|    max|         286592.99|\n",
      "+-------+------------------+\n",
      "\n"
     ]
    }
   ],
   "source": [
    "df.select(['salary']).describe().show()"
   ]
  },
  {
   "cell_type": "code",
   "execution_count": 40,
   "metadata": {},
   "outputs": [],
   "source": [
    "gender_df = df.select(['gender']).groupby(['gender']).agg(F.count('gender'))"
   ]
  },
  {
   "cell_type": "code",
   "execution_count": 41,
   "metadata": {},
   "outputs": [
    {
     "data": {
      "text/plain": [
       "[Row(gender='Female', count(gender)=482),\n",
       " Row(gender='Male', count(gender)=451),\n",
       " Row(gender='', count(gender)=67)]"
      ]
     },
     "execution_count": 41,
     "metadata": {},
     "output_type": "execute_result"
    }
   ],
   "source": [
    "gender_df.collect()"
   ]
  },
  {
   "cell_type": "code",
   "execution_count": 42,
   "metadata": {},
   "outputs": [
    {
     "data": {
      "text/plain": [
       "pyspark.sql.dataframe.DataFrame"
      ]
     },
     "execution_count": 42,
     "metadata": {},
     "output_type": "execute_result"
    }
   ],
   "source": [
    "type(gender_df)"
   ]
  },
  {
   "cell_type": "code",
   "execution_count": 28,
   "metadata": {},
   "outputs": [],
   "source": [
    "# this is row object but we need values so converting it into rdd & get values out of it\n",
    "gender_no = gender_df.rdd.map(lambda x: (x.gender,x['count(gender)'])).collect()"
   ]
  },
  {
   "cell_type": "code",
   "execution_count": 29,
   "metadata": {},
   "outputs": [
    {
     "data": {
      "text/plain": [
       "[('Female', 482), ('Male', 451), ('', 67)]"
      ]
     },
     "execution_count": 29,
     "metadata": {},
     "output_type": "execute_result"
    }
   ],
   "source": [
    "gender_no"
   ]
  },
  {
   "cell_type": "code",
   "execution_count": 37,
   "metadata": {},
   "outputs": [],
   "source": [
    "import pandas as pd\n",
    "gender_count_df = pd.DataFrame(gender_no,columns=['Gender','Count'])"
   ]
  },
  {
   "cell_type": "code",
   "execution_count": 38,
   "metadata": {},
   "outputs": [
    {
     "data": {
      "text/html": [
       "<div>\n",
       "<style scoped>\n",
       "    .dataframe tbody tr th:only-of-type {\n",
       "        vertical-align: middle;\n",
       "    }\n",
       "\n",
       "    .dataframe tbody tr th {\n",
       "        vertical-align: top;\n",
       "    }\n",
       "\n",
       "    .dataframe thead th {\n",
       "        text-align: right;\n",
       "    }\n",
       "</style>\n",
       "<table border=\"1\" class=\"dataframe\">\n",
       "  <thead>\n",
       "    <tr style=\"text-align: right;\">\n",
       "      <th></th>\n",
       "      <th>Gender</th>\n",
       "      <th>Count</th>\n",
       "    </tr>\n",
       "  </thead>\n",
       "  <tbody>\n",
       "    <tr>\n",
       "      <th>0</th>\n",
       "      <td>Female</td>\n",
       "      <td>482</td>\n",
       "    </tr>\n",
       "    <tr>\n",
       "      <th>1</th>\n",
       "      <td>Male</td>\n",
       "      <td>451</td>\n",
       "    </tr>\n",
       "    <tr>\n",
       "      <th>2</th>\n",
       "      <td></td>\n",
       "      <td>67</td>\n",
       "    </tr>\n",
       "  </tbody>\n",
       "</table>\n",
       "</div>"
      ],
      "text/plain": [
       "   Gender  Count\n",
       "0  Female    482\n",
       "1    Male    451\n",
       "2             67"
      ]
     },
     "execution_count": 38,
     "metadata": {},
     "output_type": "execute_result"
    }
   ],
   "source": [
    "gender_count_df"
   ]
  },
  {
   "cell_type": "code",
   "execution_count": 43,
   "metadata": {},
   "outputs": [],
   "source": [
    "# another method to create pandas dataframe from pyspark sql dataframe\n",
    "gender_pandas_df = gender_df.toPandas()"
   ]
  },
  {
   "cell_type": "code",
   "execution_count": 44,
   "metadata": {},
   "outputs": [
    {
     "data": {
      "text/html": [
       "<div>\n",
       "<style scoped>\n",
       "    .dataframe tbody tr th:only-of-type {\n",
       "        vertical-align: middle;\n",
       "    }\n",
       "\n",
       "    .dataframe tbody tr th {\n",
       "        vertical-align: top;\n",
       "    }\n",
       "\n",
       "    .dataframe thead th {\n",
       "        text-align: right;\n",
       "    }\n",
       "</style>\n",
       "<table border=\"1\" class=\"dataframe\">\n",
       "  <thead>\n",
       "    <tr style=\"text-align: right;\">\n",
       "      <th></th>\n",
       "      <th>gender</th>\n",
       "      <th>count(gender)</th>\n",
       "    </tr>\n",
       "  </thead>\n",
       "  <tbody>\n",
       "    <tr>\n",
       "      <th>0</th>\n",
       "      <td>Female</td>\n",
       "      <td>482</td>\n",
       "    </tr>\n",
       "    <tr>\n",
       "      <th>1</th>\n",
       "      <td>Male</td>\n",
       "      <td>451</td>\n",
       "    </tr>\n",
       "    <tr>\n",
       "      <th>2</th>\n",
       "      <td></td>\n",
       "      <td>67</td>\n",
       "    </tr>\n",
       "  </tbody>\n",
       "</table>\n",
       "</div>"
      ],
      "text/plain": [
       "   gender  count(gender)\n",
       "0  Female            482\n",
       "1    Male            451\n",
       "2                     67"
      ]
     },
     "execution_count": 44,
     "metadata": {},
     "output_type": "execute_result"
    }
   ],
   "source": [
    "gender_pandas_df"
   ]
  },
  {
   "cell_type": "code",
   "execution_count": 46,
   "metadata": {},
   "outputs": [
    {
     "data": {
      "text/plain": [
       "<matplotlib.axes._subplots.AxesSubplot at 0x22e9d3256a0>"
      ]
     },
     "execution_count": 46,
     "metadata": {},
     "output_type": "execute_result"
    },
    {
     "data": {
      "image/png": "[encoded data removed]",
      "text/plain": [
       "<Figure size 432x288 with 1 Axes>"
      ]
     },
     "metadata": {
      "needs_background": "light"
     },
     "output_type": "display_data"
    }
   ],
   "source": [
    "import seaborn as sns\n",
    "sns.barplot(x=\"gender\",y=\"count(gender)\",data=gender_pandas_df)"
   ]
  },
  {
   "cell_type": "code",
   "execution_count": 47,
   "metadata": {},
   "outputs": [],
   "source": [
    "# with extermly large data set we normally take random sample & plot the data since \n",
    "# all plotting library works on single machine if data is too large to fit it on single machine \n",
    "# we have to take samples to approximate graphs"
   ]
  },
  {
   "cell_type": "code",
   "execution_count": 48,
   "metadata": {},
   "outputs": [],
   "source": [
    "#using SQL to analyse data"
   ]
  },
  {
   "cell_type": "code",
   "execution_count": 52,
   "metadata": {},
   "outputs": [],
   "source": [
    "df.createOrReplaceTempView('parq')"
   ]
  },
  {
   "cell_type": "code",
   "execution_count": 54,
   "metadata": {},
   "outputs": [
    {
     "data": {
      "text/plain": [
       "[Row(registration_dttm=datetime.datetime(2016, 2, 3, 13, 25, 29), id=1, first_name='Amanda', last_name='Jordan', email='ajordan0@com.com', gender='Female', ip_address='1.197.201.2', cc='6759521864920116', country='Indonesia', birthdate='3/8/1971', salary=49756.53, title='Internal Auditor', comments='1E+02'),\n",
       " Row(registration_dttm=datetime.datetime(2016, 2, 3, 22, 34, 3), id=2, first_name='Albert', last_name='Freeman', email='afreeman1@is.gd', gender='Male', ip_address='218.111.175.34', cc='', country='Canada', birthdate='1/16/1968', salary=150280.17, title='Accountant IV', comments='')]"
      ]
     },
     "execution_count": 54,
     "metadata": {},
     "output_type": "execute_result"
    }
   ],
   "source": [
    "ss.sql(\"select * from parq limit 2\").collect()"
   ]
  },
  {
   "cell_type": "code",
   "execution_count": 55,
   "metadata": {},
   "outputs": [
    {
     "data": {
      "text/plain": [
       "[Row(gender='Female', gender_count=482),\n",
       " Row(gender='Male', gender_count=451),\n",
       " Row(gender='', gender_count=67)]"
      ]
     },
     "execution_count": 55,
     "metadata": {},
     "output_type": "execute_result"
    }
   ],
   "source": [
    "ss.sql(\"select gender,count(gender)gender_count from parq group by gender\").collect()"
   ]
  },
  {
   "cell_type": "code",
   "execution_count": 56,
   "metadata": {},
   "outputs": [
    {
     "data": {
      "text/plain": [
       "[Row(min(salary)=12380.49, max(salary)=286592.99)]"
      ]
     },
     "execution_count": 56,
     "metadata": {},
     "output_type": "execute_result"
    }
   ],
   "source": [
    "# min & max salary\n",
    "ss.sql(\"select min(salary),max(salary) from parq\").collect()"
   ]
  },
  {
   "cell_type": "code",
   "execution_count": 60,
   "metadata": {},
   "outputs": [
    {
     "data": {
      "text/plain": [
       "[Row(country='China', country_count=189),\n",
       " Row(country='Indonesia', country_count=97),\n",
       " Row(country='Russia', country_count=62),\n",
       " Row(country='Philippines', country_count=45),\n",
       " Row(country='Brazil', country_count=38),\n",
       " Row(country='Portugal', country_count=38),\n",
       " Row(country='France', country_count=37),\n",
       " Row(country='Poland', country_count=35),\n",
       " Row(country='Sweden', country_count=25),\n",
       " Row(country='Japan', country_count=20),\n",
       " Row(country='Canada', country_count=19),\n",
       " Row(country='United States', country_count=17),\n",
       " Row(country='Ukraine', country_count=16),\n",
       " Row(country='Peru', country_count=14),\n",
       " Row(country='Colombia', country_count=14),\n",
       " Row(country='Argentina', country_count=13),\n",
       " Row(country='Thailand', country_count=12),\n",
       " Row(country='Czech Republic', country_count=12),\n",
       " Row(country='Finland', country_count=11),\n",
       " Row(country='Nigeria', country_count=11),\n",
       " Row(country='Mexico', country_count=11),\n",
       " Row(country='South Africa', country_count=9),\n",
       " Row(country='Malaysia', country_count=8),\n",
       " Row(country='Bosnia and Herzegovina', country_count=8),\n",
       " Row(country='Greece', country_count=7),\n",
       " Row(country='Kazakhstan', country_count=7),\n",
       " Row(country='Vietnam', country_count=7),\n",
       " Row(country='Macedonia', country_count=6),\n",
       " Row(country='Tanzania', country_count=6),\n",
       " Row(country='Pakistan', country_count=6),\n",
       " Row(country='Yemen', country_count=5),\n",
       " Row(country='Palestinian Territory', country_count=5),\n",
       " Row(country='Norway', country_count=5),\n",
       " Row(country='Guatemala', country_count=5),\n",
       " Row(country='Ethiopia', country_count=5),\n",
       " Row(country='Serbia', country_count=5),\n",
       " Row(country='Germany', country_count=4),\n",
       " Row(country='Belarus', country_count=4),\n",
       " Row(country='Chile', country_count=4),\n",
       " Row(country='Bolivia', country_count=4),\n",
       " Row(country='Venezuela', country_count=4),\n",
       " Row(country='Mongolia', country_count=4),\n",
       " Row(country='Armenia', country_count=4),\n",
       " Row(country='Honduras', country_count=4),\n",
       " Row(country='Slovenia', country_count=4),\n",
       " Row(country='Bulgaria', country_count=4),\n",
       " Row(country='Egypt', country_count=4),\n",
       " Row(country='Netherlands', country_count=4),\n",
       " Row(country='Albania', country_count=3),\n",
       " Row(country='Cuba', country_count=3),\n",
       " Row(country='Central African Republic', country_count=3),\n",
       " Row(country='Iran', country_count=3),\n",
       " Row(country='Ireland', country_count=3),\n",
       " Row(country='Democratic Republic of the Congo', country_count=3),\n",
       " Row(country='Morocco', country_count=3),\n",
       " Row(country='South Korea', country_count=3),\n",
       " Row(country='Azerbaijan', country_count=3),\n",
       " Row(country='Tunisia', country_count=3),\n",
       " Row(country='Uganda', country_count=3),\n",
       " Row(country='Namibia', country_count=3),\n",
       " Row(country='Cameroon', country_count=3),\n",
       " Row(country='Nepal', country_count=3),\n",
       " Row(country='Burkina Faso', country_count=3),\n",
       " Row(country='Afghanistan', country_count=2),\n",
       " Row(country='Ivory Coast', country_count=2),\n",
       " Row(country='Sudan', country_count=2),\n",
       " Row(country='Sri Lanka', country_count=2),\n",
       " Row(country='Ecuador', country_count=2),\n",
       " Row(country='Nicaragua', country_count=2),\n",
       " Row(country='Malta', country_count=2),\n",
       " Row(country='Italy', country_count=2),\n",
       " Row(country='Bangladesh', country_count=2),\n",
       " Row(country='Laos', country_count=2),\n",
       " Row(country='Cape Verde', country_count=2),\n",
       " Row(country='Israel', country_count=2),\n",
       " Row(country='Oman', country_count=2),\n",
       " Row(country='Estonia', country_count=2),\n",
       " Row(country='Zimbabwe', country_count=2),\n",
       " Row(country='Latvia', country_count=2),\n",
       " Row(country='Dominican Republic', country_count=2),\n",
       " Row(country='Luxembourg', country_count=2),\n",
       " Row(country='Australia', country_count=2),\n",
       " Row(country='Mauritius', country_count=2),\n",
       " Row(country='Paraguay', country_count=1),\n",
       " Row(country='Kiribati', country_count=1),\n",
       " Row(country='Norfolk Island', country_count=1),\n",
       " Row(country='\"Bonaire', country_count=1),\n",
       " Row(country='Turkey', country_count=1),\n",
       " Row(country='Belgium', country_count=1),\n",
       " Row(country='Angola', country_count=1),\n",
       " Row(country='Myanmar', country_count=1),\n",
       " Row(country='Somalia', country_count=1),\n",
       " Row(country='Croatia', country_count=1),\n",
       " Row(country='Turkmenistan', country_count=1),\n",
       " Row(country='Spain', country_count=1),\n",
       " Row(country='Mauritania', country_count=1),\n",
       " Row(country='Denmark', country_count=1),\n",
       " Row(country='Cyprus', country_count=1),\n",
       " Row(country='Uruguay', country_count=1),\n",
       " Row(country='Georgia', country_count=1),\n",
       " Row(country='Montenegro', country_count=1),\n",
       " Row(country='Libya', country_count=1),\n",
       " Row(country='Liberia', country_count=1),\n",
       " Row(country='Trinidad and Tobago', country_count=1),\n",
       " Row(country='Saudi Arabia', country_count=1),\n",
       " Row(country='Zambia', country_count=1),\n",
       " Row(country='Brunei', country_count=1),\n",
       " Row(country='Aland Islands', country_count=1),\n",
       " Row(country='Guinea', country_count=1),\n",
       " Row(country='Faroe Islands', country_count=1),\n",
       " Row(country='Uzbekistan', country_count=1),\n",
       " Row(country='Mozambique', country_count=1),\n",
       " Row(country='Gambia', country_count=1),\n",
       " Row(country='Lebanon', country_count=1),\n",
       " Row(country='Botswana', country_count=1),\n",
       " Row(country='Haiti', country_count=1),\n",
       " Row(country='Papua New Guinea', country_count=1),\n",
       " Row(country='El Salvador', country_count=1),\n",
       " Row(country='Costa Rica', country_count=1),\n",
       " Row(country='Bermuda', country_count=1)]"
      ]
     },
     "execution_count": 60,
     "metadata": {},
     "output_type": "execute_result"
    }
   ],
   "source": [
    "# dataset consist of which all countries & size of data for each country\n",
    "ss.sql(\"select country,count(country) country_count from parq group by country order by country_count desc\").collect()"
   ]
  },
  {
   "cell_type": "code",
   "execution_count": 64,
   "metadata": {},
   "outputs": [
    {
     "data": {
      "text/plain": [
       "[Row(count(1)=932)]"
      ]
     },
     "execution_count": 64,
     "metadata": {},
     "output_type": "execute_result"
    }
   ],
   "source": [
    "# how many people are with salary more than 10k\n",
    "ss.sql(\"select count(1) from parq where salary > 10000\").collect()"
   ]
  },
  {
   "cell_type": "code",
   "execution_count": 66,
   "metadata": {},
   "outputs": [
    {
     "data": {
      "text/plain": [
       "[Row(title='Systems Administrator II'),\n",
       " Row(title='Media Manager III'),\n",
       " Row(title='Recruiting Manager'),\n",
       " Row(title='Geologist II'),\n",
       " Row(title='Geologist III'),\n",
       " Row(title='Database Administrator IV'),\n",
       " Row(title='Financial Analyst'),\n",
       " Row(title='Analyst Programmer'),\n",
       " Row(title='Accountant IV'),\n",
       " Row(title='Software Engineer II'),\n",
       " Row(title='Computer Systems Analyst IV'),\n",
       " Row(title='Product Engineer'),\n",
       " Row(title='Software Test Engineer II'),\n",
       " Row(title='Junior Executive'),\n",
       " Row(title='Systems Administrator III'),\n",
       " Row(title='VP Marketing'),\n",
       " Row(title='Human Resources Assistant III'),\n",
       " Row(title='Environmental Tech'),\n",
       " Row(title='Mechanical Systems Engineer'),\n",
       " Row(title='Nuclear Power Engineer'),\n",
       " Row(title='Assistant Professor'),\n",
       " Row(title='Information Systems Manager'),\n",
       " Row(title='Executive Secretary'),\n",
       " Row(title='Statistician IV'),\n",
       " Row(title='Account Coordinator'),\n",
       " Row(title='Web Developer II'),\n",
       " Row(title='Sales Associate'),\n",
       " Row(title='Account Representative I'),\n",
       " Row(title='Software Test Engineer IV'),\n",
       " Row(title='GIS Technical Architect'),\n",
       " Row(title='Nurse'),\n",
       " Row(title='Civil Engineer'),\n",
       " Row(title='Software Test Engineer I'),\n",
       " Row(title='Web Designer II'),\n",
       " Row(title='Statistician II'),\n",
       " Row(title='Analog Circuit Design manager'),\n",
       " Row(title='Dental Hygienist'),\n",
       " Row(title='61871.37'),\n",
       " Row(title='Account Executive'),\n",
       " Row(title='Automation Specialist I'),\n",
       " Row(title='Registered Nurse'),\n",
       " Row(title='Budget/Accounting Analyst III'),\n",
       " Row(title='Associate Professor'),\n",
       " Row(title='Marketing Manager'),\n",
       " Row(title='Computer Systems Analyst II'),\n",
       " Row(title='Operator'),\n",
       " Row(title='Project Manager'),\n",
       " Row(title='Developer IV'),\n",
       " Row(title='Web Designer III'),\n",
       " Row(title='Teacher'),\n",
       " Row(title='Safety Technician I'),\n",
       " Row(title='VP Quality Control'),\n",
       " Row(title='Biostatistician II'),\n",
       " Row(title='Web Developer IV'),\n",
       " Row(title='Senior Quality Engineer'),\n",
       " Row(title='Engineer I'),\n",
       " Row(title='Accounting Assistant I'),\n",
       " Row(title='Office Assistant II'),\n",
       " Row(title='Accountant III'),\n",
       " Row(title='Graphic Designer'),\n",
       " Row(title='Accounting Assistant IV'),\n",
       " Row(title='Staff Accountant III'),\n",
       " Row(title='Staff Scientist'),\n",
       " Row(title='Systems Administrator I'),\n",
       " Row(title='Safety Technician II'),\n",
       " Row(title='Help Desk Technician'),\n",
       " Row(title='Quality Engineer'),\n",
       " Row(title='Engineer IV'),\n",
       " Row(title='Nurse Practicioner'),\n",
       " Row(title='Media Manager IV'),\n",
       " Row(title='Office Assistant IV'),\n",
       " Row(title='Media Manager I'),\n",
       " Row(title='Human Resources Assistant II'),\n",
       " Row(title='Chemical Engineer'),\n",
       " Row(title='Research Associate'),\n",
       " Row(title='Food Chemist'),\n",
       " Row(title='Quality Control Specialist'),\n",
       " Row(title='Physical Therapy Assistant'),\n",
       " Row(title='Web Developer III'),\n",
       " Row(title='Geologist IV'),\n",
       " Row(title='Health Coach IV'),\n",
       " Row(title='General Manager'),\n",
       " Row(title='Database Administrator III'),\n",
       " Row(title='Senior Developer'),\n",
       " Row(title='Occupational Therapist'),\n",
       " Row(title='Research Nurse'),\n",
       " Row(title='Database Administrator I'),\n",
       " Row(title='Software Engineer I'),\n",
       " Row(title='Sales Representative'),\n",
       " Row(title='Marketing Assistant'),\n",
       " Row(title='Librarian'),\n",
       " Row(title='Office Assistant III'),\n",
       " Row(title='Developer I'),\n",
       " Row(title='Community Outreach Specialist'),\n",
       " Row(title='Chief Design Engineer'),\n",
       " Row(title='Budget/Accounting Analyst I'),\n",
       " Row(title='Legal Assistant'),\n",
       " Row(title='Staff Accountant IV'),\n",
       " Row(title='Technical Writer'),\n",
       " Row(title='Engineer II'),\n",
       " Row(title='VP Product Management'),\n",
       " Row(title='Recruiter'),\n",
       " Row(title='Data Coordiator'),\n",
       " Row(title='Web Designer I'),\n",
       " Row(title='Design Engineer'),\n",
       " Row(title='Speech Pathologist'),\n",
       " Row(title='Web Developer I'),\n",
       " Row(title='Automation Specialist IV'),\n",
       " Row(title='Structural Engineer'),\n",
       " Row(title='Health Coach III'),\n",
       " Row(title='Research Assistant I'),\n",
       " Row(title='Research Assistant II'),\n",
       " Row(title='Developer II'),\n",
       " Row(title='Accountant I'),\n",
       " Row(title='Budget/Accounting Analyst IV'),\n",
       " Row(title='Clinical Specialist'),\n",
       " Row(title='Programmer I'),\n",
       " Row(title='Accountant II'),\n",
       " Row(title='Senior Financial Analyst'),\n",
       " Row(title='Environmental Specialist'),\n",
       " Row(title='Director of Sales'),\n",
       " Row(title='Staff Accountant I'),\n",
       " Row(title='Media Manager II'),\n",
       " Row(title='Developer III'),\n",
       " Row(title='Software Engineer III'),\n",
       " Row(title='Senior Editor'),\n",
       " Row(title='Software Consultant'),\n",
       " Row(title='Assistant Media Planner'),\n",
       " Row(title='Accounting Assistant II'),\n",
       " Row(title='Research Assistant IV'),\n",
       " Row(title='Engineer III'),\n",
       " Row(title='Pharmacist'),\n",
       " Row(title='Administrative Assistant II'),\n",
       " Row(title='Payment Adjustment Coordinator'),\n",
       " Row(title='Budget/Accounting Analyst II'),\n",
       " Row(title='Geological Engineer'),\n",
       " Row(title='Administrative Officer'),\n",
       " Row(title='Electrical Engineer'),\n",
       " Row(title='Paralegal'),\n",
       " Row(title='Geologist I'),\n",
       " Row(title='Structural Analysis Engineer'),\n",
       " Row(title='Help Desk Operator'),\n",
       " Row(title='Senior Sales Associate'),\n",
       " Row(title='VP Accounting'),\n",
       " Row(title='Senior Cost Accountant'),\n",
       " Row(title='Programmer Analyst I'),\n",
       " Row(title='Human Resources Assistant IV'),\n",
       " Row(title='Programmer II'),\n",
       " Row(title='Health Coach I'),\n",
       " Row(title='Software Test Engineer III'),\n",
       " Row(title='Biostatistician III'),\n",
       " Row(title='Research Assistant III'),\n",
       " Row(title='VP Sales'),\n",
       " Row(title='Desktop Support Technician'),\n",
       " Row(title='Actuary'),\n",
       " Row(title='Biostatistician I'),\n",
       " Row(title='Professor'),\n",
       " Row(title='Human Resources Assistant I'),\n",
       " Row(title='Compensation Analyst'),\n",
       " Row(title='Health Coach II'),\n",
       " Row(title='Administrative Assistant IV'),\n",
       " Row(title='Account Representative II'),\n",
       " Row(title='Office Assistant I'),\n",
       " Row(title='Software Engineer IV'),\n",
       " Row(title=''),\n",
       " Row(title='Programmer Analyst IV'),\n",
       " Row(title='Business Systems Development Analyst'),\n",
       " Row(title='Computer Systems Analyst III'),\n",
       " Row(title='Cost Accountant'),\n",
       " Row(title='Biostatistician IV'),\n",
       " Row(title='Human Resources Manager'),\n",
       " Row(title='Accounting Assistant III'),\n",
       " Row(title='Automation Specialist III'),\n",
       " Row(title='Internal Auditor'),\n",
       " Row(title='Automation Specialist II'),\n",
       " Row(title='Assistant Manager'),\n",
       " Row(title='Financial Advisor'),\n",
       " Row(title='Computer Systems Analyst I'),\n",
       " Row(title='Systems Administrator IV'),\n",
       " Row(title='Editor'),\n",
       " Row(title='Tax Accountant'),\n",
       " Row(title='Social Worker')]"
      ]
     },
     "execution_count": 66,
     "metadata": {},
     "output_type": "execute_result"
    }
   ],
   "source": [
    "# distinct titiles \n",
    "ss.sql(\"select distinct(title) from parq\").collect()"
   ]
  },
  {
   "cell_type": "code",
   "execution_count": 85,
   "metadata": {},
   "outputs": [
    {
     "name": "stdout",
     "output_type": "stream",
     "text": [
      "+-------------------+---------+----------+---------+\n",
      "|              title|   salary|first_name|last_name|\n",
      "+-------------------+---------+----------+---------+\n",
      "|          Librarian|286592.99|     Kathy| Reynolds|\n",
      "|                   |286061.25|    Ronald|     Ross|\n",
      "|                   |285036.95|     Billy|    Reyes|\n",
      "|Associate Professor|284737.57|  Kathleen|   Graham|\n",
      "|Marketing Assistant|284728.99|      Todd|  Alvarez|\n",
      "+-------------------+---------+----------+---------+\n",
      "only showing top 5 rows\n",
      "\n"
     ]
    }
   ],
   "source": [
    "# what is title for highest salary taker\n",
    "df.dropna().sort('salary',ascending=False).select('title','salary','first_name','last_name').show(5)"
   ]
  },
  {
   "cell_type": "code",
   "execution_count": 86,
   "metadata": {},
   "outputs": [],
   "source": [
    "# first person to register & registration year"
   ]
  },
  {
   "cell_type": "code",
   "execution_count": 102,
   "metadata": {},
   "outputs": [],
   "source": [
    "from pyspark.sql.functions import year,month,dayofmonth\n",
    "df = df.withColumn(\"Year\",year('registration_dttm'))\n",
    "df = df.withColumn(\"month\",month('registration_dttm'))\n",
    "df = df.withColumn(\"dayofmonth\",dayofmonth('registration_dttm'))"
   ]
  },
  {
   "cell_type": "code",
   "execution_count": 106,
   "metadata": {},
   "outputs": [
    {
     "name": "stdout",
     "output_type": "stream",
     "text": [
      "+----------+---------+----+-----+----------+\n",
      "|first_name|last_name|year|month|dayofmonth|\n",
      "+----------+---------+----+-----+----------+\n",
      "|   Shirley| Williams|2016|    2|         3|\n",
      "|    Daniel|  Spencer|2016|    2|         3|\n",
      "|   Lillian|   Murray|2016|    2|         3|\n",
      "|     Carol|Patterson|2016|    2|         3|\n",
      "|     Sarah|  Freeman|2016|    2|         3|\n",
      "+----------+---------+----+-----+----------+\n",
      "only showing top 5 rows\n",
      "\n"
     ]
    }
   ],
   "source": [
    "df.sort(\"registration_dttm\").select('first_name','last_name',\"year\",\"month\",\"dayofmonth\").show(5)"
   ]
  },
  {
   "cell_type": "code",
   "execution_count": 107,
   "metadata": {},
   "outputs": [],
   "source": [
    "# lower all name in dataframe"
   ]
  },
  {
   "cell_type": "code",
   "execution_count": 108,
   "metadata": {},
   "outputs": [],
   "source": [
    "from pyspark.sql.functions import udf\n",
    "lower = udf(lambda x: x.lower())"
   ]
  },
  {
   "cell_type": "code",
   "execution_count": 113,
   "metadata": {},
   "outputs": [],
   "source": [
    "df = df.withColumn(\"first_name\",lower(\"first_name\"))\n",
    "df = df.withColumn(\"last_name\",lower(\"last_name\"))"
   ]
  },
  {
   "cell_type": "code",
   "execution_count": 116,
   "metadata": {},
   "outputs": [
    {
     "data": {
      "text/plain": [
       "[Row(registration_dttm=datetime.datetime(2016, 2, 3, 13, 25, 29), id=1, first_name='amanda', last_name='jordan', email='ajordan0@com.com', gender='Female', ip_address='1.197.201.2', cc='6759521864920116', country='Indonesia', birthdate='3/8/1971', salary=49756.53, title='Internal Auditor', comments='1E+02', Year=2016, month=2, dayofmonth=3)]"
      ]
     },
     "execution_count": 116,
     "metadata": {},
     "output_type": "execute_result"
    }
   ],
   "source": [
    "df.take(1)"
   ]
  },
  {
   "cell_type": "code",
   "execution_count": 119,
   "metadata": {},
   "outputs": [],
   "source": [
    "first_4_name = ss.sql(\"select lower(first_name) from parq limit 5\")"
   ]
  },
  {
   "cell_type": "code",
   "execution_count": 121,
   "metadata": {},
   "outputs": [
    {
     "name": "stdout",
     "output_type": "stream",
     "text": [
      "+-----------------+\n",
      "|lower(first_name)|\n",
      "+-----------------+\n",
      "|           amanda|\n",
      "|           albert|\n",
      "|           evelyn|\n",
      "|           denise|\n",
      "|           carlos|\n",
      "+-----------------+\n",
      "\n"
     ]
    }
   ],
   "source": [
    "first_4_name.show()"
   ]
  },
  {
   "cell_type": "code",
   "execution_count": null,
   "metadata": {},
   "outputs": [],
   "source": []
  }
 ],
 "metadata": {
  "kernelspec": {
   "display_name": "Python 3",
   "language": "python",
   "name": "python3"
  },
  "language_info": {
   "codemirror_mode": {
    "name": "ipython",
    "version": 3
   },
   "file_extension": ".py",
   "mimetype": "text/x-python",
   "name": "python",
   "nbconvert_exporter": "python",
   "pygments_lexer": "ipython3",
   "version": "3.7.3"
  },
  "toc": {
   "base_numbering": 1,
   "nav_menu": {},
   "number_sections": true,
   "sideBar": true,
   "skip_h1_title": false,
   "title_cell": "Table of Contents",
   "title_sidebar": "Contents",
   "toc_cell": false,
   "toc_position": {},
   "toc_section_display": true,
   "toc_window_display": false
  }
 },
 "nbformat": 4,
 "nbformat_minor": 2
}
