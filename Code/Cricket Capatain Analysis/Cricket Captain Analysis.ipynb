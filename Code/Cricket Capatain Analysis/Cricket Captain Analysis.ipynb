{
 "cells": [
  {
   "cell_type": "markdown",
   "metadata": {},
   "source": [
    "### In this notebook we will try to do some basics around Pyspark, we have taken very small dataset which consist of records of cricket captains around the world,by this data we will try to answer few questions"
   ]
  },
  {
   "cell_type": "code",
   "execution_count": 1,
   "metadata": {},
   "outputs": [],
   "source": [
    "from pyspark.sql import SparkSession\n",
    "ss = SparkSession.builder.appName(\"cricket\").getOrCreate()"
   ]
  },
  {
   "cell_type": "code",
   "execution_count": 2,
   "metadata": {},
   "outputs": [
    {
     "data": {
      "text/html": [
       "\n",
       "            <div>\n",
       "                <p><b>SparkSession - in-memory</b></p>\n",
       "                \n",
       "        <div>\n",
       "            <p><b>SparkContext</b></p>\n",
       "\n",
       "            <p><a href=\"http://RohitS12-MSL1.mumbai1.corp.citiustech.com:4040\">Spark UI</a></p>\n",
       "\n",
       "            <dl>\n",
       "              <dt>Version</dt>\n",
       "                <dd><code>v2.4.4</code></dd>\n",
       "              <dt>Master</dt>\n",
       "                <dd><code>local[*]</code></dd>\n",
       "              <dt>AppName</dt>\n",
       "                <dd><code>cricket</code></dd>\n",
       "            </dl>\n",
       "        </div>\n",
       "        \n",
       "            </div>\n",
       "        "
      ],
      "text/plain": [
       "<pyspark.sql.session.SparkSession at 0x27621112588>"
      ]
     },
     "execution_count": 2,
     "metadata": {},
     "output_type": "execute_result"
    }
   ],
   "source": [
    "ss"
   ]
  },
  {
   "cell_type": "code",
   "execution_count": 3,
   "metadata": {},
   "outputs": [],
   "source": [
    "mainDf = ss.read.text('captain_record.txt')"
   ]
  },
  {
   "cell_type": "code",
   "execution_count": 4,
   "metadata": {},
   "outputs": [
    {
     "data": {
      "text/plain": [
       "pyspark.sql.dataframe.DataFrame"
      ]
     },
     "execution_count": 4,
     "metadata": {},
     "output_type": "execute_result"
    }
   ],
   "source": [
    "type(mainDf)"
   ]
  },
  {
   "cell_type": "markdown",
   "metadata": {},
   "source": [
    "difference between show() ,take() & head() \n",
    "- show will display result in tabular format & return type is None \n",
    "- Take will return list of values i.e. rows which can be further utilized\n",
    "- head & take is extacly same"
   ]
  },
  {
   "cell_type": "code",
   "execution_count": 5,
   "metadata": {},
   "outputs": [],
   "source": [
    "# take first 5 record & put it into another variable\n",
    "new_rdd = mainDf.take(5)"
   ]
  },
  {
   "cell_type": "code",
   "execution_count": 6,
   "metadata": {},
   "outputs": [
    {
     "name": "stdout",
     "output_type": "stream",
     "text": [
      "+--------------------+\n",
      "|               value|\n",
      "+--------------------+\n",
      "|RT Ponting (AUS/I...|\n",
      "|SP Fleming (NZ)\t1...|\n",
      "|MS Dhoni (INDIA)\t...|\n",
      "|A Ranatunga (SL)\t...|\n",
      "|AR Border (AUS)\t1...|\n",
      "+--------------------+\n",
      "only showing top 5 rows\n",
      "\n"
     ]
    }
   ],
   "source": [
    "new_1 = mainDf.show(5)"
   ]
  },
  {
   "cell_type": "code",
   "execution_count": 7,
   "metadata": {},
   "outputs": [
    {
     "data": {
      "text/plain": [
       "[Row(value='RT Ponting (AUS/ICC)\\t2002-2012\\t230\\t165\\t51\\t2\\t12\\t76.14'),\n",
       " Row(value='SP Fleming (NZ)\\t1997-2007\\t218\\t98\\t106\\t1\\t13\\t48.04'),\n",
       " Row(value='MS Dhoni (INDIA)\\t2007-2018\\t200\\t110\\t74\\t5\\t11\\t59.52'),\n",
       " Row(value='A Ranatunga (SL)\\t1988-1999\\t193\\t89\\t95\\t1\\t8\\t48.37'),\n",
       " Row(value='AR Border (AUS)\\t1985-1994\\t178\\t107\\t67\\t1\\t3\\t61.42')]"
      ]
     },
     "execution_count": 7,
     "metadata": {},
     "output_type": "execute_result"
    }
   ],
   "source": [
    "mainDf.head(5)"
   ]
  },
  {
   "cell_type": "code",
   "execution_count": 8,
   "metadata": {},
   "outputs": [
    {
     "data": {
      "text/plain": [
       "list"
      ]
     },
     "execution_count": 8,
     "metadata": {},
     "output_type": "execute_result"
    }
   ],
   "source": [
    "type(new_rdd)"
   ]
  },
  {
   "cell_type": "code",
   "execution_count": 9,
   "metadata": {},
   "outputs": [
    {
     "data": {
      "text/plain": [
       "NoneType"
      ]
     },
     "execution_count": 9,
     "metadata": {},
     "output_type": "execute_result"
    }
   ],
   "source": [
    "type(new_1)"
   ]
  },
  {
   "cell_type": "code",
   "execution_count": 10,
   "metadata": {},
   "outputs": [],
   "source": [
    "# First we will work with RDD\n",
    "# row object has only one column which is value, its single string \n",
    "# we need to change that to table format rows & columns"
   ]
  },
  {
   "cell_type": "code",
   "execution_count": 12,
   "metadata": {},
   "outputs": [],
   "source": [
    "mainRDD = mainDf.rdd"
   ]
  },
  {
   "cell_type": "code",
   "execution_count": 13,
   "metadata": {},
   "outputs": [],
   "source": [
    "from collections import namedtuple\n",
    "Record = namedtuple(\"record\",[\"name\",\"span\",\"matches\",\"win\",\"lost\",\"tie\",\"no_result\",\"strike_rate\"])"
   ]
  },
  {
   "cell_type": "code",
   "execution_count": 14,
   "metadata": {},
   "outputs": [],
   "source": [
    "def convert_record(s):\n",
    "    fe = s.value.split(\"\\t\")\n",
    "    return Record(fe[0],fe[1],int(fe[2]),int(fe[3]),int(fe[4]),int(fe[5]),int(fe[6]),float(fe[7]))"
   ]
  },
  {
   "cell_type": "code",
   "execution_count": 15,
   "metadata": {},
   "outputs": [],
   "source": [
    "# data frame does not have map functionality so first converting it into RDD \n",
    "record_rdd = mainRDD.map(convert_record)"
   ]
  },
  {
   "cell_type": "code",
   "execution_count": 17,
   "metadata": {},
   "outputs": [
    {
     "data": {
      "text/plain": [
       "[record(name='RT Ponting (AUS/ICC)', span='2002-2012', matches=230, win=165, lost=51, tie=2, no_result=12, strike_rate=76.14)]"
      ]
     },
     "execution_count": 17,
     "metadata": {},
     "output_type": "execute_result"
    }
   ],
   "source": [
    "record_rdd.take(1)"
   ]
  },
  {
   "cell_type": "markdown",
   "metadata": {},
   "source": [
    "#### Data analysis"
   ]
  },
  {
   "cell_type": "markdown",
   "metadata": {},
   "source": [
    "##### Most decorated captain in the world highest percentage wins"
   ]
  },
  {
   "cell_type": "code",
   "execution_count": 18,
   "metadata": {},
   "outputs": [],
   "source": [
    "decorated_rdd = record_rdd.map(lambda x: (x.name,x.win/x.matches))"
   ]
  },
  {
   "cell_type": "code",
   "execution_count": 19,
   "metadata": {},
   "outputs": [
    {
     "data": {
      "text/plain": [
       "[('CH Lloyd (WI)', 0.7619047619047619),\n",
       " ('V Kohli (INDIA)', 0.725),\n",
       " ('F du Plessis (SA)', 0.717948717948718),\n",
       " ('RT Ponting (AUS/ICC)', 0.717391304347826),\n",
       " ('WJ Cronje (SA)', 0.717391304347826),\n",
       " ('MW Gatting (ENG)', 0.7027027027027027),\n",
       " ('MJ Clarke (AUS)', 0.6756756756756757),\n",
       " ('IVA Richards (WI)', 0.638095238095238),\n",
       " ('SR Waugh (AUS)', 0.6320754716981132),\n",
       " ('SM Pollock (Afr/ICC/SA)', 0.6185567010309279),\n",
       " ('Saleem Malik (PAK)', 0.6176470588235294),\n",
       " ('GC Smith (Afr/SA)', 0.6133333333333333),\n",
       " ('EJG Morgan (ENG)', 0.6126126126126126),\n",
       " ('Shoaib Malik (PAK)', 0.6097560975609756),\n",
       " ('Wasim Akram (PAK)', 0.6055045871559633),\n",
       " ('AR Border (AUS)', 0.601123595505618),\n",
       " ('KC Sangakkara (SL)', 0.6),\n",
       " ('Waqar Younis (PAK)', 0.5967741935483871),\n",
       " ('Moin Khan (PAK)', 0.5882352941176471),\n",
       " ('BB McCullum (NZ)', 0.5806451612903226),\n",
       " ('Inzamam-ul-Haq (Asia/PAK)', 0.5777777777777777),\n",
       " ('AB de Villiers (SA)', 0.5728155339805825),\n",
       " ('Sarfraz Ahmed (PAK)', 0.56),\n",
       " ('ST Jayasuriya (SL)', 0.559322033898305),\n",
       " ('MS Atapattu (SL)', 0.5555555555555556),\n",
       " ('Asghar Stanikzai (AFG)', 0.5535714285714286),\n",
       " ('Mashrafe Mortaza (BDESH)', 0.5529411764705883),\n",
       " ('DPMD Jayawardene (Asia/SL)', 0.5503875968992248),\n",
       " ('MS Dhoni (INDIA)', 0.55),\n",
       " ('Imran Khan (PAK)', 0.539568345323741),\n",
       " ('MA Taylor (AUS)', 0.5373134328358209),\n",
       " ('KS Williamson (NZ)', 0.5333333333333333),\n",
       " ('MP Vaughan (ENG)', 0.5333333333333333),\n",
       " ('R Dravid (INDIA)', 0.5316455696202531),\n",
       " ('RB Richardson (WI)', 0.5287356321839081),\n",
       " ('N Kapil Dev (INDIA)', 0.527027027027027),\n",
       " ('AN Cook (ENG)', 0.5217391304347826),\n",
       " ('M Azharuddin (INDIA)', 0.5172413793103449),\n",
       " ('Misbah-ul-Haq (PAK)', 0.5172413793103449),\n",
       " ('SC Ganguly (Asia/INDIA)', 0.5170068027210885),\n",
       " ('GP Howarth (NZ)', 0.5166666666666667),\n",
       " ('JG Wright (NZ)', 0.5161290322580645),\n",
       " ('CA Walsh (WI)', 0.5116279069767442),\n",
       " ('DL Vettori (NZ)', 0.5),\n",
       " ('N Hussain (ENG)', 0.5),\n",
       " ('Shahid Afridi (PAK)', 0.5),\n",
       " ('SPD Smith (AUS)', 0.49019607843137253),\n",
       " ('GA Gooch (ENG)', 0.48),\n",
       " ('MD Crowe (NZ)', 0.4772727272727273),\n",
       " ('BC Lara (WI)', 0.472),\n",
       " ('CL Hooper (WI)', 0.46938775510204084),\n",
       " ('MA Atherton (ENG)', 0.46511627906976744),\n",
       " ('AD Mathews (SL)', 0.46226415094339623),\n",
       " ('A Ranatunga (SL)', 0.46113989637305697),\n",
       " ('Shakib Al Hasan (BDESH)', 0.46),\n",
       " ('DJ Bravo (WI)', 0.4594594594594595),\n",
       " ('SP Fleming (NZ)', 0.44954128440366975),\n",
       " ('WTS Porterfield (IRE)', 0.4424778761061947),\n",
       " ('DT Johnston (IRE)', 0.4375),\n",
       " ('AJ Strauss (ENG)', 0.43548387096774194),\n",
       " ('GS Chappell (AUS)', 0.42857142857142855),\n",
       " ('KJ Hughes (AUS)', 0.42857142857142855),\n",
       " ('Habibul Bashar (BDESH)', 0.42028985507246375),\n",
       " ('Javed Miandad (PAK)', 0.41935483870967744),\n",
       " ('LK Germon (NZ)', 0.4166666666666667),\n",
       " ('Azhar Ali (PAK)', 0.3870967741935484),\n",
       " ('KC Wessels (SA)', 0.38461538461538464),\n",
       " ('SM Gavaskar (INDIA)', 0.3783783783783784),\n",
       " ('DJG Sammy (WI)', 0.37254901960784315),\n",
       " ('SO Tikolo (KENYA)', 0.3698630136986301),\n",
       " ('AJ Stewart (ENG)', 0.36585365853658536),\n",
       " ('ADR Campbell (ZIM)', 0.3488372093023256),\n",
       " ('AG Cremer (ZIM)', 0.34285714285714286),\n",
       " ('PW Borren (NL)', 0.3225806451612903),\n",
       " ('CH Gayle (WI)', 0.32075471698113206),\n",
       " ('SR Tendulkar (INDIA)', 0.3150684931506849),\n",
       " ('Mushfiqur Rahim (BDESH)', 0.2972972972972973),\n",
       " ('P Utseya (ZIM)', 0.29411764705882354),\n",
       " ('E Chigumbura (ZIM)', 0.2903225806451613),\n",
       " ('JO Holder (WI)', 0.27906976744186046),\n",
       " ('KR Rutherford (NZ)', 0.2702702702702703),\n",
       " ('HH Streak (ZIM)', 0.2647058823529412),\n",
       " ('BRM Taylor (ZIM)', 0.2647058823529412),\n",
       " ('A Flower (ZIM)', 0.23076923076923078),\n",
       " ('Mohammad Ashraful (BDESH)', 0.21052631578947367),\n",
       " ('IH Romaine (BMUDA)', 0.1875),\n",
       " ('LRD Mendis (SL)', 0.18032786885245902),\n",
       " ('Khaled Mashud (BDESH)', 0.13333333333333333)]"
      ]
     },
     "execution_count": 19,
     "metadata": {},
     "output_type": "execute_result"
    }
   ],
   "source": [
    "decorated_rdd.sortBy(lambda x: x[1],False).collect()"
   ]
  },
  {
   "cell_type": "markdown",
   "metadata": {},
   "source": [
    "##### Most decorated indian Captain"
   ]
  },
  {
   "cell_type": "code",
   "execution_count": 20,
   "metadata": {},
   "outputs": [
    {
     "data": {
      "text/plain": [
       "[record(name='RT Ponting (AUS/ICC)', span='2002-2012', matches=230, win=165, lost=51, tie=2, no_result=12, strike_rate=76.14)]"
      ]
     },
     "execution_count": 20,
     "metadata": {},
     "output_type": "execute_result"
    }
   ],
   "source": [
    "record_rdd.take(1)"
   ]
  },
  {
   "cell_type": "code",
   "execution_count": 21,
   "metadata": {},
   "outputs": [
    {
     "data": {
      "text/plain": [
       "[('MS Dhoni (INDIA)', 0.55),\n",
       " ('M Azharuddin (INDIA)', 0.5172413793103449),\n",
       " ('SC Ganguly (Asia/INDIA)', 0.5170068027210885),\n",
       " ('V Kohli (INDIA)', 0.725),\n",
       " ('R Dravid (INDIA)', 0.5316455696202531),\n",
       " ('N Kapil Dev (INDIA)', 0.527027027027027),\n",
       " ('SR Tendulkar (INDIA)', 0.3150684931506849),\n",
       " ('SM Gavaskar (INDIA)', 0.3783783783783784)]"
      ]
     },
     "execution_count": 21,
     "metadata": {},
     "output_type": "execute_result"
    }
   ],
   "source": [
    "decorated_rdd.filter(lambda x:\"INDIA\" in x[0]).collect()"
   ]
  },
  {
   "cell_type": "markdown",
   "metadata": {},
   "source": [
    "##### Un-lucky capatin with max number of no results"
   ]
  },
  {
   "cell_type": "code",
   "execution_count": 22,
   "metadata": {
    "scrolled": true
   },
   "outputs": [
    {
     "data": {
      "text/plain": [
       "[record(name='SP Fleming (NZ)', span='1997-2007', matches=218, win=98, lost=106, tie=1, no_result=13, strike_rate=48.04)]"
      ]
     },
     "execution_count": 22,
     "metadata": {},
     "output_type": "execute_result"
    }
   ],
   "source": [
    "record_rdd.sortBy(lambda x:x.no_result,False).take(1)"
   ]
  },
  {
   "cell_type": "markdown",
   "metadata": {},
   "source": [
    "#### analysing RDD"
   ]
  },
  {
   "cell_type": "code",
   "execution_count": 29,
   "metadata": {},
   "outputs": [
    {
     "name": "stdout",
     "output_type": "stream",
     "text": [
      "root\n",
      " |-- name: string (nullable = true)\n",
      " |-- span: string (nullable = true)\n",
      " |-- matches: long (nullable = true)\n",
      " |-- win: long (nullable = true)\n",
      " |-- lost: long (nullable = true)\n",
      " |-- tie: long (nullable = true)\n",
      " |-- no_result: long (nullable = true)\n",
      " |-- strike_rate: double (nullable = true)\n",
      "\n"
     ]
    }
   ],
   "source": [
    "# RDD dont have printschema function , so converting RDD to dataframe first\n",
    "record_rdd.toDF().printSchema()"
   ]
  },
  {
   "cell_type": "code",
   "execution_count": 30,
   "metadata": {},
   "outputs": [
    {
     "data": {
      "text/plain": [
       "1"
      ]
     },
     "execution_count": 30,
     "metadata": {},
     "output_type": "execute_result"
    }
   ],
   "source": [
    "# Dataframe dont have function to get number of partitions so converting into RDD first\n",
    "record_rdd.getNumPartitions()"
   ]
  },
  {
   "cell_type": "code",
   "execution_count": 31,
   "metadata": {},
   "outputs": [
    {
     "data": {
      "text/plain": [
       "88"
      ]
     },
     "execution_count": 31,
     "metadata": {},
     "output_type": "execute_result"
    }
   ],
   "source": [
    "# size of data\n",
    "record_rdd.count()"
   ]
  },
  {
   "cell_type": "markdown",
   "metadata": {},
   "source": [
    "##### Repartition vs coalesce"
   ]
  },
  {
   "cell_type": "code",
   "execution_count": 32,
   "metadata": {},
   "outputs": [],
   "source": [
    "# repartition will shuffle all data & make data distribution even where as coalesce is \n",
    "# optimized versin of repartition where data movemet is minimum\n",
    "\n",
    "# normally we do repartitioning after we filter large dataset which could lead to imbalance data in the \n",
    "#nodes"
   ]
  },
  {
   "cell_type": "code",
   "execution_count": 33,
   "metadata": {},
   "outputs": [],
   "source": [
    "record_rdd = record_rdd.repartition(2)"
   ]
  },
  {
   "cell_type": "code",
   "execution_count": 34,
   "metadata": {},
   "outputs": [
    {
     "data": {
      "text/plain": [
       "2"
      ]
     },
     "execution_count": 34,
     "metadata": {},
     "output_type": "execute_result"
    }
   ],
   "source": [
    "record_rdd.getNumPartitions()"
   ]
  },
  {
   "cell_type": "markdown",
   "metadata": {},
   "source": [
    "#### We will solve same problem with dataframe"
   ]
  },
  {
   "cell_type": "code",
   "execution_count": 54,
   "metadata": {},
   "outputs": [],
   "source": [
    "# create schema \n",
    "from pyspark.sql.types import StructType,IntegerType,StringType,DecimalType,StructField\n",
    "\n",
    "schema = StructType([\n",
    "    StructField(\"Name\",StringType(),False),\n",
    "    StructField(\"span\",StringType(),False),\n",
    "    StructField(\"Played\",IntegerType(),False),\n",
    "    StructField(\"Won\",IntegerType(),False),\n",
    "    StructField(\"lost\",IntegerType(),False),\n",
    "    StructField(\"Draw\",IntegerType(),False),\n",
    "    StructField(\"No Results\",IntegerType(),False),\n",
    "    StructField(\"Rate\",DecimalType(scale=2),False),\n",
    "    \n",
    "])"
   ]
  },
  {
   "cell_type": "code",
   "execution_count": 55,
   "metadata": {},
   "outputs": [],
   "source": [
    "mainDf = ss.read.csv('captain_record.txt',sep=\"\\t\",schema=schema)"
   ]
  },
  {
   "cell_type": "code",
   "execution_count": 56,
   "metadata": {},
   "outputs": [
    {
     "name": "stdout",
     "output_type": "stream",
     "text": [
      "+--------------------+---------+------+---+----+----+----------+-----+\n",
      "|                Name|     span|Played|Won|lost|Draw|No Results| Rate|\n",
      "+--------------------+---------+------+---+----+----+----------+-----+\n",
      "|RT Ponting (AUS/ICC)|2002-2012|   230|165|  51|   2|        12|76.14|\n",
      "|     SP Fleming (NZ)|1997-2007|   218| 98| 106|   1|        13|48.04|\n",
      "|    MS Dhoni (INDIA)|2007-2018|   200|110|  74|   5|        11|59.52|\n",
      "|    A Ranatunga (SL)|1988-1999|   193| 89|  95|   1|         8|48.37|\n",
      "|     AR Border (AUS)|1985-1994|   178|107|  67|   1|         3|61.42|\n",
      "|M Azharuddin (INDIA)|1990-1999|   174| 90|  76|   2|         6|54.16|\n",
      "|   GC Smith (Afr/SA)|2003-2011|   150| 92|  51|   1|         6|64.23|\n",
      "|SC Ganguly (Asia/...|1999-2005|   147| 76|  66|   0|         5|53.52|\n",
      "|    Imran Khan (PAK)|1982-1992|   139| 75|  59|   1|         4|55.92|\n",
      "|      WJ Cronje (SA)|1994-2000|   138| 99|  35|   1|         3|73.70|\n",
      "|DPMD Jayawardene ...|2004-2013|   129| 71|  49|   1|         8|59.09|\n",
      "|        BC Lara (WI)|1994-2007|   125| 59|  59|   0|         7|50.00|\n",
      "|  ST Jayasuriya (SL)|1998-2003|   118| 66|  47|   2|         3|58.26|\n",
      "|WTS Porterfield (...|2008-2019|   113| 50|  55|   2|         6|47.66|\n",
      "|    EJG Morgan (ENG)|2011-2019|   111| 68|  35|   2|         6|65.71|\n",
      "|   Wasim Akram (PAK)|1993-2000|   109| 66|  41|   2|         0|61.46|\n",
      "|     AD Mathews (SL)|2012-2018|   106| 49|  51|   1|         5|49.00|\n",
      "|      SR Waugh (AUS)|1997-2002|   106| 67|  35|   3|         1|65.23|\n",
      "|   IVA Richards (WI)|1980-1991|   105| 67|  36|   0|         2|65.04|\n",
      "| AB de Villiers (SA)|2012-2017|   103| 59|  39|   1|         4|60.10|\n",
      "+--------------------+---------+------+---+----+----+----------+-----+\n",
      "only showing top 20 rows\n",
      "\n"
     ]
    }
   ],
   "source": [
    "mainDf.show()"
   ]
  },
  {
   "cell_type": "code",
   "execution_count": 57,
   "metadata": {},
   "outputs": [
    {
     "name": "stdout",
     "output_type": "stream",
     "text": [
      "root\n",
      " |-- Name: string (nullable = true)\n",
      " |-- span: string (nullable = true)\n",
      " |-- Played: integer (nullable = true)\n",
      " |-- Won: integer (nullable = true)\n",
      " |-- lost: integer (nullable = true)\n",
      " |-- Draw: integer (nullable = true)\n",
      " |-- No Results: integer (nullable = true)\n",
      " |-- Rate: decimal(10,2) (nullable = true)\n",
      "\n"
     ]
    }
   ],
   "source": [
    "mainDf.printSchema()"
   ]
  },
  {
   "cell_type": "code",
   "execution_count": 58,
   "metadata": {},
   "outputs": [
    {
     "data": {
      "text/plain": [
       "1"
      ]
     },
     "execution_count": 58,
     "metadata": {},
     "output_type": "execute_result"
    }
   ],
   "source": [
    "mainDf.rdd.getNumPartitions()"
   ]
  },
  {
   "cell_type": "code",
   "execution_count": 62,
   "metadata": {
    "scrolled": true
   },
   "outputs": [],
   "source": [
    "mainDf = mainDf.withColumn(\"per_win\",mainDf['Won']/mainDf['Played'])"
   ]
  },
  {
   "cell_type": "code",
   "execution_count": 66,
   "metadata": {},
   "outputs": [
    {
     "data": {
      "text/plain": [
       "[Row(Name='CH Lloyd (WI)', span='1975-1985', Played=84, Won=64, lost=18, Draw=1, No Results=1, Rate=Decimal('77.71'), per_win=0.7619047619047619)]"
      ]
     },
     "execution_count": 66,
     "metadata": {},
     "output_type": "execute_result"
    }
   ],
   "source": [
    "mainDf.sort(\"per_win\",ascending=False).head(1)"
   ]
  },
  {
   "cell_type": "code",
   "execution_count": 76,
   "metadata": {},
   "outputs": [],
   "source": [
    "import pyspark.sql.functions as sf\n",
    "indian_captain = mainDf.sort(\"per_win\",ascending=False).filter(sf.col(\"Name\").contains(\"INDIA\")).select(['Name','per_win']).collect()"
   ]
  },
  {
   "cell_type": "code",
   "execution_count": 78,
   "metadata": {},
   "outputs": [
    {
     "data": {
      "text/plain": [
       "pyspark.sql.types.Row"
      ]
     },
     "execution_count": 78,
     "metadata": {},
     "output_type": "execute_result"
    }
   ],
   "source": [
    "type(indian_captain[0])"
   ]
  },
  {
   "cell_type": "code",
   "execution_count": 81,
   "metadata": {},
   "outputs": [
    {
     "name": "stdout",
     "output_type": "stream",
     "text": [
      "+--------------------+------------------+\n",
      "|                Name|           per_win|\n",
      "+--------------------+------------------+\n",
      "|     V Kohli (INDIA)|             0.725|\n",
      "|    MS Dhoni (INDIA)|              0.55|\n",
      "|    R Dravid (INDIA)|0.5316455696202531|\n",
      "| N Kapil Dev (INDIA)| 0.527027027027027|\n",
      "|M Azharuddin (INDIA)|0.5172413793103449|\n",
      "|SC Ganguly (Asia/...|0.5170068027210885|\n",
      "| SM Gavaskar (INDIA)|0.3783783783783784|\n",
      "|SR Tendulkar (INDIA)|0.3150684931506849|\n",
      "+--------------------+------------------+\n",
      "\n"
     ]
    }
   ],
   "source": [
    "# creating data frame from Row type\n",
    "ss.createDataFrame(indian_captain).show()"
   ]
  },
  {
   "cell_type": "markdown",
   "metadata": {},
   "source": [
    "##### which country is the  best in terms of percentage win"
   ]
  },
  {
   "cell_type": "code",
   "execution_count": 94,
   "metadata": {},
   "outputs": [],
   "source": [
    "from pyspark.sql.functions import regexp_extract,col\n",
    "mainDf = mainDf.withColumn(\"country_name\",regexp_extract(col(\"Name\"),r'\\(.*\\)',0))"
   ]
  },
  {
   "cell_type": "code",
   "execution_count": 119,
   "metadata": {},
   "outputs": [
    {
     "name": "stdout",
     "output_type": "stream",
     "text": [
      "+------------+\n",
      "|country_name|\n",
      "+------------+\n",
      "|       (ENG)|\n",
      "|        (SL)|\n",
      "|        (NL)|\n",
      "|       (PAK)|\n",
      "|     (BDESH)|\n",
      "|   (AUS/ICC)|\n",
      "|     (KENYA)|\n",
      "|       (IRE)|\n",
      "|(Afr/ICC/SA)|\n",
      "|     (BMUDA)|\n",
      "|       (ZIM)|\n",
      "|  (Asia/PAK)|\n",
      "|(Asia/INDIA)|\n",
      "|        (SA)|\n",
      "|   (Asia/SL)|\n",
      "|    (Afr/SA)|\n",
      "|     (INDIA)|\n",
      "|        (WI)|\n",
      "|        (NZ)|\n",
      "|       (AUS)|\n",
      "+------------+\n",
      "only showing top 20 rows\n",
      "\n"
     ]
    }
   ],
   "source": [
    "mainDf.select(\"country_name\").distinct().show()"
   ]
  },
  {
   "cell_type": "code",
   "execution_count": 129,
   "metadata": {},
   "outputs": [],
   "source": [
    "lookup_dict = {\"(AUS/ICC)\":\"(AUS)\",\n",
    "               \"(Afr/ICC/SA)\":\"(SA)\",\n",
    "               \"(Afr/SA)\":\"(SA)\",\n",
    "               \"(Asia/SL)\":\"(SL)\",\n",
    "               \"(Asia/INDIA)\":\"(INDIA)\",\n",
    "               \"(Asia/PAK)\":\"(PAK)\"}"
   ]
  },
  {
   "cell_type": "code",
   "execution_count": 130,
   "metadata": {},
   "outputs": [],
   "source": [
    "from pyspark.sql.functions import udf\n",
    "unified_country = udf(lambda x: lookup_dict[x] if x in list(lookup_dict.keys()) else x,StringType())"
   ]
  },
  {
   "cell_type": "code",
   "execution_count": 131,
   "metadata": {},
   "outputs": [],
   "source": [
    "# clean country name data\n",
    "mainDf = mainDf.withColumn(\"clean_country\",unified_country(\"country_name\"))"
   ]
  },
  {
   "cell_type": "code",
   "execution_count": 137,
   "metadata": {},
   "outputs": [
    {
     "data": {
      "text/plain": [
       "[Row(clean_country='(SA)', avg_per_win=0.6041101625427954),\n",
       " Row(clean_country='(AUS)', avg_per_win=0.5638648019546605),\n",
       " Row(clean_country='(AFG)', avg_per_win=0.5535714285714286),\n",
       " Row(clean_country='(PAK)', avg_per_win=0.5432463622101326),\n",
       " Row(clean_country='(ENG)', avg_per_win=0.5129823986286141),\n",
       " Row(clean_country='(INDIA)', avg_per_win=0.5076709562759721),\n",
       " Row(clean_country='(WI)', avg_per_win=0.48135842577529886),\n",
       " Row(clean_country='(SL)', avg_per_win=0.48128530036028533),\n",
       " Row(clean_country='(NZ)', avg_per_win=0.4733916824624134),\n",
       " Row(clean_country='(IRE)', avg_per_win=0.43998893805309736),\n",
       " Row(clean_country='(KENYA)', avg_per_win=0.3698630136986301),\n",
       " Row(clean_country='(BDESH)', avg_per_win=0.34573132966052605),\n",
       " Row(clean_country='(NL)', avg_per_win=0.3225806451612903),\n",
       " Row(clean_country='(ZIM)', avg_per_win=0.2909022250483666),\n",
       " Row(clean_country='(BMUDA)', avg_per_win=0.1875)]"
      ]
     },
     "execution_count": 137,
     "metadata": {},
     "output_type": "execute_result"
    }
   ],
   "source": [
    "from pyspark.sql import functions as F\n",
    "mainDf.select(\"clean_country\",\"per_win\").groupBy(\"clean_country\").agg(F.mean('per_win').alias(\"avg_per_win\")).sort(\"avg_per_win\",ascending=False).collect()"
   ]
  },
  {
   "cell_type": "code",
   "execution_count": null,
   "metadata": {},
   "outputs": [],
   "source": []
  }
 ],
 "metadata": {
  "kernelspec": {
   "display_name": "Python 3",
   "language": "python",
   "name": "python3"
  },
  "language_info": {
   "codemirror_mode": {
    "name": "ipython",
    "version": 3
   },
   "file_extension": ".py",
   "mimetype": "text/x-python",
   "name": "python",
   "nbconvert_exporter": "python",
   "pygments_lexer": "ipython3",
   "version": "3.7.3"
  },
  "toc": {
   "base_numbering": 1,
   "nav_menu": {},
   "number_sections": true,
   "sideBar": true,
   "skip_h1_title": false,
   "title_cell": "Table of Contents",
   "title_sidebar": "Contents",
   "toc_cell": false,
   "toc_position": {
    "height": "calc(100% - 180px)",
    "left": "10px",
    "top": "150px",
    "width": "165px"
   },
   "toc_section_display": true,
   "toc_window_display": true
  }
 },
 "nbformat": 4,
 "nbformat_minor": 2
}
